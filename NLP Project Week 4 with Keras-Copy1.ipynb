{
 "cells": [
  {
   "cell_type": "markdown",
   "id": "217e3b32",
   "metadata": {},
   "source": [
    "**Project Topic**\n",
    "\n",
    "In this project, I implemented Long Short Term Memory (LSTM) to perform Natural Language Processing (NLP) on tweets. My code was trained and validated to detect whether a given tweet is indicative of a natural disaster or not. I experimented with different dropout rates and found I was able to achieve a ~92% accuracy on training data and a ~75% accuracy on testing data."
   ]
  },
  {
   "cell_type": "markdown",
   "id": "6a00e2e9",
   "metadata": {},
   "source": [
    "**Data**\n",
    "\n",
    "First, I important relevant Python libraries and imported the data. The training data has 7613 rows for that number of tweets. The testing data has 3263 rows. I printed some of the columns to get a sense for different variables."
   ]
  },
  {
   "cell_type": "code",
   "execution_count": 239,
   "id": "7d21c720",
   "metadata": {},
   "outputs": [],
   "source": [
    "import numpy as np\n",
    "import pandas as pd\n",
    "from sklearn import feature_extraction, linear_model, model_selection, preprocessing\n",
    "from sklearn.model_selection import train_test_split\n",
    "import random\n",
    "from sklearn.metrics import confusion_matrix, ConfusionMatrixDisplay\n",
    "from tensorflow.keras import layers\n",
    "from tensorflow import keras\n",
    "import tensorflow as tf\n",
    "import matplotlib.pyplot as plt\n",
    "from keras.preprocessing.text import Tokenizer\n",
    "from scipy import stats\n",
    "from keras.models import Sequential\n",
    "from keras.layers import Embedding, LSTM, Dropout, Dense\n",
    "from keras.preprocessing.sequence import pad_sequences"
   ]
  },
  {
   "cell_type": "code",
   "execution_count": 240,
   "id": "4ebe15fa",
   "metadata": {},
   "outputs": [],
   "source": [
    "train_df = pd.read_csv(\"nlp-getting-started/train.csv\")\n",
    "val_df = pd.read_csv(\"nlp-getting-started/test.csv\")"
   ]
  },
  {
   "cell_type": "code",
   "execution_count": 241,
   "id": "ffc3c383",
   "metadata": {},
   "outputs": [],
   "source": [
    "train_df = train_df.drop(columns=['keyword','location'])\n",
    "val_df = val_df.drop(columns=['keyword','location'])"
   ]
  },
  {
   "cell_type": "markdown",
   "id": "63560579",
   "metadata": {},
   "source": [
    "**Exploratory Data Analysis**\n",
    "\n",
    "After visualizing a subset of the data, I looked at to what extent it would need to be cleaned and pre-processed. Since the data set comes from a Kaggle competition, it was already in relatively good condition. There weren't any totally invalid tweets that I just needed to delete entirely.\n",
    "\n",
    "My pre-processing methodology comes directly from Reference 6, which is an example notebook for a different data science application but I found has a good pre-processing algorithm that would be applicable to this natural disaster natural language processing project.\n",
    "\n",
    "To make it easier for the models to digest, I first removed a variety of characters.\n",
    "\n",
    "Next, I split the data into training and testing sets. There is still the separate testing/validation set for the Kaggle submission, but this intermediate testing set derived from the training data helsp with assessing the performance of my model for each training epoch. \n",
    "\n",
    "Finally, I tokenized the text such that it now contains counts for the 4,000 most common words used across all of the tweets."
   ]
  },
  {
   "cell_type": "code",
   "execution_count": 187,
   "id": "423e8afe",
   "metadata": {},
   "outputs": [
    {
     "name": "stdout",
     "output_type": "stream",
     "text": [
      "         id                                               text\n",
      "0         0                 Just happened a terrible car crash\n",
      "1         2  Heard about #earthquake is different cities, s...\n",
      "2         3  there is a forest fire at spot pond, geese are...\n",
      "3         9           Apocalypse lighting. #Spokane #wildfires\n",
      "4        11      Typhoon Soudelor kills 28 in China and Taiwan\n",
      "...     ...                                                ...\n",
      "3258  10861  EARTHQUAKE SAFETY LOS ANGELES ÛÒ SAFETY FASTE...\n",
      "3259  10865  Storm in RI worse than last hurricane. My city...\n",
      "3260  10868  Green Line derailment in Chicago http://t.co/U...\n",
      "3261  10874  MEG issues Hazardous Weather Outlook (HWO) htt...\n",
      "3262  10875  #CityofCalgary has activated its Municipal Eme...\n",
      "\n",
      "[3263 rows x 2 columns]\n"
     ]
    }
   ],
   "source": [
    "print(val_df)"
   ]
  },
  {
   "cell_type": "code",
   "execution_count": 238,
   "id": "ea6a64d2",
   "metadata": {},
   "outputs": [
    {
     "name": "stdout",
     "output_type": "stream",
     "text": [
      "         id                                               text  target\n",
      "0         1  our deeds are the reason of this earthquake ma...       1\n",
      "1         4              forest fire near la ronge sask canada       1\n",
      "2         5  all residents asked to shelter in place are be...       1\n",
      "3         6  13000 people receive wildfires evacuation orde...       1\n",
      "4         7  just got sent this photo from ruby alaska as s...       1\n",
      "...     ...                                                ...     ...\n",
      "7608  10869  two giant cranes holding a bridge collapse int...       1\n",
      "7609  10870  aria ahrary thetawniest the out of control wil...       1\n",
      "7610  10871              m194 0104 utc 5km s of volcano hawaii       1\n",
      "7611  10872  police investigating after an e bike collided ...       1\n",
      "7612  10873  the latest more homes razed by northern califo...       1\n",
      "\n",
      "[7613 rows x 3 columns]\n"
     ]
    }
   ],
   "source": [
    "print(train_df)"
   ]
  },
  {
   "cell_type": "code",
   "execution_count": 205,
   "id": "9ab81f78",
   "metadata": {},
   "outputs": [],
   "source": [
    "def process(x):\n",
    "    x = re.sub('[,\\.!?:()\"]', '', x)\n",
    "    x = re.sub('<.*?>', ' ', x)\n",
    "    x = re.sub('http\\S+', ' ', x)\n",
    "    x = re.sub('[^a-zA-Z0-9]', ' ', x)\n",
    "    x = re.sub('\\s+', ' ', x)\n",
    "    return x.lower().strip()\n",
    "\n",
    "train_df['text'] = train_df['text'].apply(lambda x: process(x))\n",
    "val_df['text'] = val_df['text'].apply(lambda x: process(x))                       "
   ]
  },
  {
   "cell_type": "code",
   "execution_count": 189,
   "id": "37cb7f0a",
   "metadata": {},
   "outputs": [
    {
     "data": {
      "text/html": [
       "<div>\n",
       "<style scoped>\n",
       "    .dataframe tbody tr th:only-of-type {\n",
       "        vertical-align: middle;\n",
       "    }\n",
       "\n",
       "    .dataframe tbody tr th {\n",
       "        vertical-align: top;\n",
       "    }\n",
       "\n",
       "    .dataframe thead th {\n",
       "        text-align: right;\n",
       "    }\n",
       "</style>\n",
       "<table border=\"1\" class=\"dataframe\">\n",
       "  <thead>\n",
       "    <tr style=\"text-align: right;\">\n",
       "      <th></th>\n",
       "      <th>id</th>\n",
       "      <th>target</th>\n",
       "    </tr>\n",
       "  </thead>\n",
       "  <tbody>\n",
       "    <tr>\n",
       "      <th>count</th>\n",
       "      <td>7613.000000</td>\n",
       "      <td>7613.00000</td>\n",
       "    </tr>\n",
       "    <tr>\n",
       "      <th>mean</th>\n",
       "      <td>5441.934848</td>\n",
       "      <td>0.42966</td>\n",
       "    </tr>\n",
       "    <tr>\n",
       "      <th>std</th>\n",
       "      <td>3137.116090</td>\n",
       "      <td>0.49506</td>\n",
       "    </tr>\n",
       "    <tr>\n",
       "      <th>min</th>\n",
       "      <td>1.000000</td>\n",
       "      <td>0.00000</td>\n",
       "    </tr>\n",
       "    <tr>\n",
       "      <th>25%</th>\n",
       "      <td>2734.000000</td>\n",
       "      <td>0.00000</td>\n",
       "    </tr>\n",
       "    <tr>\n",
       "      <th>50%</th>\n",
       "      <td>5408.000000</td>\n",
       "      <td>0.00000</td>\n",
       "    </tr>\n",
       "    <tr>\n",
       "      <th>75%</th>\n",
       "      <td>8146.000000</td>\n",
       "      <td>1.00000</td>\n",
       "    </tr>\n",
       "    <tr>\n",
       "      <th>max</th>\n",
       "      <td>10873.000000</td>\n",
       "      <td>1.00000</td>\n",
       "    </tr>\n",
       "  </tbody>\n",
       "</table>\n",
       "</div>"
      ],
      "text/plain": [
       "                 id      target\n",
       "count   7613.000000  7613.00000\n",
       "mean    5441.934848     0.42966\n",
       "std     3137.116090     0.49506\n",
       "min        1.000000     0.00000\n",
       "25%     2734.000000     0.00000\n",
       "50%     5408.000000     0.00000\n",
       "75%     8146.000000     1.00000\n",
       "max    10873.000000     1.00000"
      ]
     },
     "execution_count": 189,
     "metadata": {},
     "output_type": "execute_result"
    }
   ],
   "source": [
    "train_df.describe()"
   ]
  },
  {
   "cell_type": "code",
   "execution_count": 190,
   "id": "40ab7dc0",
   "metadata": {},
   "outputs": [
    {
     "data": {
      "text/plain": [
       "'i love fruits'"
      ]
     },
     "execution_count": 190,
     "metadata": {},
     "output_type": "execute_result"
    }
   ],
   "source": [
    "train_df[train_df[\"target\"] == 0][\"text\"].values[1]"
   ]
  },
  {
   "cell_type": "code",
   "execution_count": 191,
   "id": "9f9b07e7",
   "metadata": {},
   "outputs": [
    {
     "data": {
      "text/plain": [
       "'forest fire near la ronge sask canada'"
      ]
     },
     "execution_count": 191,
     "metadata": {},
     "output_type": "execute_result"
    }
   ],
   "source": [
    "train_df[train_df[\"target\"] == 1][\"text\"].values[1]"
   ]
  },
  {
   "cell_type": "code",
   "execution_count": 235,
   "id": "fb1290c2",
   "metadata": {},
   "outputs": [],
   "source": [
    "train_rev, test_rev, train_sent, test_sent = train_test_split(train_df['text'], train_df['target'], test_size=0.1, random_state=42)"
   ]
  },
  {
   "cell_type": "code",
   "execution_count": 207,
   "id": "6d629cf6",
   "metadata": {},
   "outputs": [],
   "source": [
    "val_rev = val_df['text']"
   ]
  },
  {
   "cell_type": "code",
   "execution_count": null,
   "id": "82fa5145",
   "metadata": {},
   "outputs": [],
   "source": [
    "dict_size = 4000\n",
    "tokenizer = Tokenizer(num_words=dict_size)\n",
    "tokenizer.fit_on_texts(train_df['text'])"
   ]
  },
  {
   "cell_type": "code",
   "execution_count": 195,
   "id": "34695fef",
   "metadata": {},
   "outputs": [],
   "source": [
    "train_rev_tokens = tokenizer.texts_to_sequences(train_rev)\n",
    "test_rev_tokens = tokenizer.texts_to_sequences(test_rev)\n",
    "seq_lengths =  np.array([len(sequence) for sequence in train_rev_tokens])\n",
    "\n",
    "upper_bound = int(np.mean(seq_lengths) + 2 * np.std(seq_lengths))\n",
    "percentage = stats.percentileofscore(seq_lengths, upper_bound)"
   ]
  },
  {
   "cell_type": "code",
   "execution_count": 236,
   "id": "4d14c71b",
   "metadata": {},
   "outputs": [],
   "source": [
    "train_rev_pad = pad_sequences(train_rev_tokens, maxlen=upper_bound)\n",
    "test_rev_pad = pad_sequences(test_rev_tokens, maxlen=upper_bound)"
   ]
  },
  {
   "cell_type": "code",
   "execution_count": 237,
   "id": "0d155c02",
   "metadata": {},
   "outputs": [
    {
     "name": "stdout",
     "output_type": "stream",
     "text": [
      "150722\n"
     ]
    }
   ],
   "source": [
    "print(train_rev_pad.size)"
   ]
  },
  {
   "cell_type": "markdown",
   "id": "3b9b25f3",
   "metadata": {},
   "source": [
    "**Model Architecture**\n",
    "\n",
    "I also followed Reference 6 (Kaggle project for a different NLP application) for the model architecture portion of this report. Using Keras/Tensorflow, I implemented LSTM with a variable dropout rate. I was curious how the dropout rate would affect the learning rate as well as the end accuracies on both the training and testing data sets. My hypothesis was that higher dropout rates would reduce overfitting. I built and trained models with dropout rates of 0.6, 0.7, 0.8, and 0.9. I trained all of those models to 20 epochs to make sure I wasn't stopping the training early on any of them."
   ]
  },
  {
   "cell_type": "code",
   "execution_count": 233,
   "id": "61c8c19b",
   "metadata": {},
   "outputs": [],
   "source": [
    "output_dim = 14\n",
    "units_lstm = 16\n",
    "r = 0.6\n",
    "\n",
    "model2 = Sequential()\n",
    "model2.add(Embedding(input_dim=dict_size, output_dim=output_dim, input_length=upper_bound))\n",
    "model2.add(LSTM(units_lstm))\n",
    "model2.add(Dropout(r))\n",
    "model2.add(Dense(1, activation='sigmoid'))"
   ]
  },
  {
   "cell_type": "code",
   "execution_count": 234,
   "id": "469fa511",
   "metadata": {},
   "outputs": [
    {
     "name": "stdout",
     "output_type": "stream",
     "text": [
      "Epoch 1/20\n",
      "24/24 [==============================] - 14s 423ms/step - loss: 0.6845 - accuracy: 0.5748 - val_loss: 0.6768 - val_accuracy: 0.5593\n",
      "Epoch 2/20\n",
      "24/24 [==============================] - 5s 211ms/step - loss: 0.6617 - accuracy: 0.5771 - val_loss: 0.6518 - val_accuracy: 0.5681\n",
      "Epoch 3/20\n",
      "24/24 [==============================] - 3s 136ms/step - loss: 0.6130 - accuracy: 0.6653 - val_loss: 0.5873 - val_accuracy: 0.6848\n",
      "Epoch 4/20\n",
      "24/24 [==============================] - 3s 118ms/step - loss: 0.5230 - accuracy: 0.7758 - val_loss: 0.5348 - val_accuracy: 0.7748\n",
      "Epoch 5/20\n",
      "24/24 [==============================] - 3s 111ms/step - loss: 0.4624 - accuracy: 0.8181 - val_loss: 0.5088 - val_accuracy: 0.7690\n",
      "Epoch 6/20\n",
      "24/24 [==============================] - 1s 48ms/step - loss: 0.4073 - accuracy: 0.8430 - val_loss: 0.4986 - val_accuracy: 0.7763\n",
      "Epoch 7/20\n",
      "24/24 [==============================] - 1s 45ms/step - loss: 0.3683 - accuracy: 0.8617 - val_loss: 0.5081 - val_accuracy: 0.7763\n",
      "Epoch 8/20\n",
      "24/24 [==============================] - 1s 49ms/step - loss: 0.3445 - accuracy: 0.8713 - val_loss: 0.5153 - val_accuracy: 0.7719\n",
      "Epoch 9/20\n",
      "24/24 [==============================] - 1s 46ms/step - loss: 0.3198 - accuracy: 0.8832 - val_loss: 0.5395 - val_accuracy: 0.7758\n",
      "Epoch 10/20\n",
      "24/24 [==============================] - 1s 52ms/step - loss: 0.3036 - accuracy: 0.8876 - val_loss: 0.5358 - val_accuracy: 0.7724\n",
      "Epoch 11/20\n",
      "24/24 [==============================] - 1s 57ms/step - loss: 0.2934 - accuracy: 0.9024 - val_loss: 0.5649 - val_accuracy: 0.7738\n",
      "Epoch 12/20\n",
      "24/24 [==============================] - 1s 46ms/step - loss: 0.2784 - accuracy: 0.9016 - val_loss: 0.5829 - val_accuracy: 0.7709\n",
      "Epoch 13/20\n",
      "24/24 [==============================] - 1s 53ms/step - loss: 0.2657 - accuracy: 0.9097 - val_loss: 0.5935 - val_accuracy: 0.7690\n",
      "Epoch 14/20\n",
      "24/24 [==============================] - 1s 46ms/step - loss: 0.2517 - accuracy: 0.9135 - val_loss: 0.6209 - val_accuracy: 0.7636\n",
      "Epoch 15/20\n",
      "24/24 [==============================] - 1s 36ms/step - loss: 0.2433 - accuracy: 0.9166 - val_loss: 0.6407 - val_accuracy: 0.7617\n",
      "Epoch 16/20\n",
      "24/24 [==============================] - 1s 35ms/step - loss: 0.2355 - accuracy: 0.9245 - val_loss: 0.6632 - val_accuracy: 0.7626\n",
      "Epoch 17/20\n",
      "24/24 [==============================] - 1s 38ms/step - loss: 0.2249 - accuracy: 0.9228 - val_loss: 0.6928 - val_accuracy: 0.7563\n",
      "Epoch 18/20\n",
      "24/24 [==============================] - 1s 38ms/step - loss: 0.2186 - accuracy: 0.9268 - val_loss: 0.7011 - val_accuracy: 0.7549\n",
      "Epoch 19/20\n",
      "24/24 [==============================] - 1s 52ms/step - loss: 0.2144 - accuracy: 0.9297 - val_loss: 0.7235 - val_accuracy: 0.7515\n",
      "Epoch 20/20\n",
      "24/24 [==============================] - 2s 66ms/step - loss: 0.2059 - accuracy: 0.9324 - val_loss: 0.7424 - val_accuracy: 0.7563\n"
     ]
    }
   ],
   "source": [
    "validation_split = 0.3\n",
    "batch_size = 200\n",
    "epochs = 20\n",
    "\n",
    "model2.compile(optimizer='adam', loss='bce', metrics='accuracy')\n",
    "\n",
    "fitted2 = model2.fit(train_rev_pad, train_sent, validation_split=validation_split,\n",
    "                   batch_size=batch_size, epochs=epochs, shuffle=True)\n",
    "\n"
   ]
  },
  {
   "cell_type": "code",
   "execution_count": 231,
   "id": "fc586280",
   "metadata": {},
   "outputs": [],
   "source": [
    "output_dim = 14\n",
    "units_lstm = 16\n",
    "r = 0.7\n",
    "\n",
    "model1 = Sequential()\n",
    "model1.add(Embedding(input_dim=dict_size, output_dim=output_dim, input_length=upper_bound))\n",
    "model1.add(LSTM(units_lstm))\n",
    "model1.add(Dropout(r))\n",
    "model1.add(Dense(1, activation='sigmoid'))"
   ]
  },
  {
   "cell_type": "code",
   "execution_count": 232,
   "id": "63ad603c",
   "metadata": {},
   "outputs": [
    {
     "name": "stdout",
     "output_type": "stream",
     "text": [
      "Epoch 1/20\n",
      "24/24 [==============================] - 13s 384ms/step - loss: 0.6866 - accuracy: 0.5575 - val_loss: 0.6802 - val_accuracy: 0.5593\n",
      "Epoch 2/20\n",
      "24/24 [==============================] - 3s 135ms/step - loss: 0.6696 - accuracy: 0.5752 - val_loss: 0.6635 - val_accuracy: 0.5593\n",
      "Epoch 3/20\n",
      "24/24 [==============================] - 4s 160ms/step - loss: 0.6368 - accuracy: 0.6171 - val_loss: 0.6160 - val_accuracy: 0.6892\n",
      "Epoch 4/20\n",
      "24/24 [==============================] - 3s 128ms/step - loss: 0.5655 - accuracy: 0.7383 - val_loss: 0.5632 - val_accuracy: 0.7719\n",
      "Epoch 5/20\n",
      "24/24 [==============================] - 3s 105ms/step - loss: 0.5033 - accuracy: 0.7998 - val_loss: 0.5362 - val_accuracy: 0.7612\n",
      "Epoch 6/20\n",
      "24/24 [==============================] - 3s 111ms/step - loss: 0.4516 - accuracy: 0.8269 - val_loss: 0.5190 - val_accuracy: 0.7738\n",
      "Epoch 7/20\n",
      "24/24 [==============================] - 2s 73ms/step - loss: 0.4054 - accuracy: 0.8488 - val_loss: 0.5178 - val_accuracy: 0.7724\n",
      "Epoch 8/20\n",
      "24/24 [==============================] - 3s 116ms/step - loss: 0.3805 - accuracy: 0.8571 - val_loss: 0.5075 - val_accuracy: 0.7665\n",
      "Epoch 9/20\n",
      "24/24 [==============================] - 2s 97ms/step - loss: 0.3403 - accuracy: 0.8770 - val_loss: 0.5367 - val_accuracy: 0.7626\n",
      "Epoch 10/20\n",
      "24/24 [==============================] - 3s 130ms/step - loss: 0.3271 - accuracy: 0.8853 - val_loss: 0.5459 - val_accuracy: 0.7539\n",
      "Epoch 11/20\n",
      "24/24 [==============================] - 2s 87ms/step - loss: 0.3083 - accuracy: 0.8972 - val_loss: 0.5848 - val_accuracy: 0.7631\n",
      "Epoch 12/20\n",
      "24/24 [==============================] - 3s 138ms/step - loss: 0.2999 - accuracy: 0.8957 - val_loss: 0.5797 - val_accuracy: 0.7597\n",
      "Epoch 13/20\n",
      "24/24 [==============================] - 3s 110ms/step - loss: 0.2820 - accuracy: 0.9059 - val_loss: 0.6019 - val_accuracy: 0.7612\n",
      "Epoch 14/20\n",
      "24/24 [==============================] - 3s 112ms/step - loss: 0.2654 - accuracy: 0.9097 - val_loss: 0.6316 - val_accuracy: 0.7524\n",
      "Epoch 15/20\n",
      "24/24 [==============================] - 2s 85ms/step - loss: 0.2488 - accuracy: 0.9174 - val_loss: 0.6609 - val_accuracy: 0.7437\n",
      "Epoch 16/20\n",
      "24/24 [==============================] - 2s 95ms/step - loss: 0.2403 - accuracy: 0.9224 - val_loss: 0.6842 - val_accuracy: 0.7471\n",
      "Epoch 17/20\n",
      "24/24 [==============================] - 2s 97ms/step - loss: 0.2274 - accuracy: 0.9241 - val_loss: 0.7024 - val_accuracy: 0.7500\n",
      "Epoch 18/20\n",
      "24/24 [==============================] - 2s 77ms/step - loss: 0.2128 - accuracy: 0.9335 - val_loss: 0.7346 - val_accuracy: 0.7481\n",
      "Epoch 19/20\n",
      "24/24 [==============================] - 2s 86ms/step - loss: 0.2114 - accuracy: 0.9339 - val_loss: 0.7476 - val_accuracy: 0.7466\n",
      "Epoch 20/20\n",
      "24/24 [==============================] - 2s 76ms/step - loss: 0.2057 - accuracy: 0.9370 - val_loss: 0.7708 - val_accuracy: 0.7451\n"
     ]
    }
   ],
   "source": [
    "validation_split = 0.3\n",
    "batch_size = 200\n",
    "epochs = 20\n",
    "\n",
    "model1.compile(optimizer='adam', loss='bce', metrics='accuracy')\n",
    "\n",
    "fitted1 = model1.fit(train_rev_pad, train_sent, validation_split=validation_split,\n",
    "                   batch_size=batch_size, epochs=epochs, shuffle=True)\n",
    "\n"
   ]
  },
  {
   "cell_type": "code",
   "execution_count": 226,
   "id": "03b9924f",
   "metadata": {},
   "outputs": [],
   "source": [
    "output_dim = 14\n",
    "units_lstm = 16\n",
    "r = 0.9\n",
    "\n",
    "model0 = Sequential()\n",
    "model0.add(Embedding(input_dim=dict_size, output_dim=output_dim, input_length=upper_bound))\n",
    "model0.add(LSTM(units_lstm))\n",
    "model0.add(Dropout(r))\n",
    "model0.add(Dense(1, activation='sigmoid'))"
   ]
  },
  {
   "cell_type": "code",
   "execution_count": 227,
   "id": "15e3c958",
   "metadata": {},
   "outputs": [
    {
     "name": "stdout",
     "output_type": "stream",
     "text": [
      "Epoch 1/20\n",
      "24/24 [==============================] - 12s 350ms/step - loss: 0.6890 - accuracy: 0.5572 - val_loss: 0.6847 - val_accuracy: 0.5593\n",
      "Epoch 2/20\n",
      "24/24 [==============================] - 4s 152ms/step - loss: 0.6770 - accuracy: 0.5754 - val_loss: 0.6743 - val_accuracy: 0.5593\n",
      "Epoch 3/20\n",
      "24/24 [==============================] - 3s 141ms/step - loss: 0.6668 - accuracy: 0.5977 - val_loss: 0.6573 - val_accuracy: 0.5978\n",
      "Epoch 4/20\n",
      "24/24 [==============================] - 3s 111ms/step - loss: 0.6360 - accuracy: 0.6425 - val_loss: 0.6183 - val_accuracy: 0.7111\n",
      "Epoch 5/20\n",
      "24/24 [==============================] - 2s 89ms/step - loss: 0.5820 - accuracy: 0.7220 - val_loss: 0.5614 - val_accuracy: 0.7568\n",
      "Epoch 6/20\n",
      "24/24 [==============================] - 3s 118ms/step - loss: 0.5383 - accuracy: 0.7610 - val_loss: 0.5306 - val_accuracy: 0.7665\n",
      "Epoch 7/20\n",
      "24/24 [==============================] - 3s 136ms/step - loss: 0.4959 - accuracy: 0.7800 - val_loss: 0.5063 - val_accuracy: 0.7738\n",
      "Epoch 8/20\n",
      "24/24 [==============================] - 2s 98ms/step - loss: 0.4653 - accuracy: 0.8050 - val_loss: 0.4988 - val_accuracy: 0.7733\n",
      "Epoch 9/20\n",
      "24/24 [==============================] - 3s 142ms/step - loss: 0.4376 - accuracy: 0.8129 - val_loss: 0.4976 - val_accuracy: 0.7680\n",
      "Epoch 10/20\n",
      "24/24 [==============================] - 4s 156ms/step - loss: 0.4212 - accuracy: 0.8133 - val_loss: 0.4965 - val_accuracy: 0.7685\n",
      "Epoch 11/20\n",
      "24/24 [==============================] - 3s 123ms/step - loss: 0.4033 - accuracy: 0.8275 - val_loss: 0.5124 - val_accuracy: 0.7680\n",
      "Epoch 12/20\n",
      "24/24 [==============================] - 2s 88ms/step - loss: 0.3969 - accuracy: 0.8327 - val_loss: 0.5164 - val_accuracy: 0.7626\n",
      "Epoch 13/20\n",
      "24/24 [==============================] - 2s 92ms/step - loss: 0.3777 - accuracy: 0.8321 - val_loss: 0.5200 - val_accuracy: 0.7685\n",
      "Epoch 14/20\n",
      "24/24 [==============================] - 1s 40ms/step - loss: 0.3708 - accuracy: 0.8279 - val_loss: 0.5363 - val_accuracy: 0.7626\n",
      "Epoch 15/20\n",
      "24/24 [==============================] - 1s 45ms/step - loss: 0.3567 - accuracy: 0.8450 - val_loss: 0.5477 - val_accuracy: 0.7602\n",
      "Epoch 16/20\n",
      "24/24 [==============================] - 2s 82ms/step - loss: 0.3526 - accuracy: 0.8444 - val_loss: 0.5468 - val_accuracy: 0.7563\n",
      "Epoch 17/20\n",
      "24/24 [==============================] - 2s 66ms/step - loss: 0.3449 - accuracy: 0.8496 - val_loss: 0.5551 - val_accuracy: 0.7622\n",
      "Epoch 18/20\n",
      "24/24 [==============================] - 3s 129ms/step - loss: 0.3345 - accuracy: 0.8540 - val_loss: 0.5725 - val_accuracy: 0.7544\n",
      "Epoch 19/20\n",
      "24/24 [==============================] - 3s 117ms/step - loss: 0.3315 - accuracy: 0.8621 - val_loss: 0.5915 - val_accuracy: 0.7636\n",
      "Epoch 20/20\n",
      "24/24 [==============================] - 3s 106ms/step - loss: 0.3221 - accuracy: 0.8584 - val_loss: 0.6482 - val_accuracy: 0.7359\n"
     ]
    }
   ],
   "source": [
    "validation_split = 0.3\n",
    "batch_size = 200\n",
    "epochs = 20\n",
    "\n",
    "model0.compile(optimizer='adam', loss='bce', metrics='accuracy')\n",
    "\n",
    "fitted0 = model0.fit(train_rev_pad, train_sent, validation_split=validation_split,\n",
    "                   batch_size=batch_size, epochs=epochs, shuffle=True)\n",
    "\n"
   ]
  },
  {
   "cell_type": "code",
   "execution_count": 199,
   "id": "6e561c6b",
   "metadata": {},
   "outputs": [],
   "source": [
    "output_dim = 14\n",
    "units_lstm = 16\n",
    "r = 0.8\n",
    "\n",
    "model = Sequential()\n",
    "model.add(Embedding(input_dim=dict_size, output_dim=output_dim, input_length=upper_bound))\n",
    "model.add(LSTM(units_lstm))\n",
    "model.add(Dropout(r))\n",
    "model.add(Dense(1, activation='sigmoid'))"
   ]
  },
  {
   "cell_type": "code",
   "execution_count": 200,
   "id": "47925179",
   "metadata": {},
   "outputs": [
    {
     "name": "stdout",
     "output_type": "stream",
     "text": [
      "Model: \"sequential_12\"\n",
      "_________________________________________________________________\n",
      " Layer (type)                Output Shape              Param #   \n",
      "=================================================================\n",
      " embedding_12 (Embedding)    (None, 22, 14)            28000     \n",
      "                                                                 \n",
      " lstm_12 (LSTM)              (None, 16)                1984      \n",
      "                                                                 \n",
      " dropout_12 (Dropout)        (None, 16)                0         \n",
      "                                                                 \n",
      " dense_12 (Dense)            (None, 1)                 17        \n",
      "                                                                 \n",
      "=================================================================\n",
      "Total params: 30001 (117.19 KB)\n",
      "Trainable params: 30001 (117.19 KB)\n",
      "Non-trainable params: 0 (0.00 Byte)\n",
      "_________________________________________________________________\n"
     ]
    }
   ],
   "source": [
    "model.summary()"
   ]
  },
  {
   "cell_type": "code",
   "execution_count": 202,
   "id": "3043feba",
   "metadata": {},
   "outputs": [
    {
     "name": "stdout",
     "output_type": "stream",
     "text": [
      "Epoch 1/20\n",
      "24/24 [==============================] - 19s 371ms/step - loss: 0.3906 - accuracy: 0.8442 - val_loss: 0.5038 - val_accuracy: 0.7797\n",
      "Epoch 2/20\n",
      "24/24 [==============================] - 3s 123ms/step - loss: 0.3719 - accuracy: 0.8567 - val_loss: 0.5100 - val_accuracy: 0.7772\n",
      "Epoch 3/20\n",
      "24/24 [==============================] - 2s 97ms/step - loss: 0.3536 - accuracy: 0.8680 - val_loss: 0.5260 - val_accuracy: 0.7738\n",
      "Epoch 4/20\n",
      "24/24 [==============================] - 3s 106ms/step - loss: 0.3411 - accuracy: 0.8690 - val_loss: 0.5319 - val_accuracy: 0.7665\n",
      "Epoch 5/20\n",
      "24/24 [==============================] - 2s 95ms/step - loss: 0.3342 - accuracy: 0.8767 - val_loss: 0.5404 - val_accuracy: 0.7568\n",
      "Epoch 6/20\n",
      "24/24 [==============================] - 3s 111ms/step - loss: 0.3201 - accuracy: 0.8824 - val_loss: 0.5440 - val_accuracy: 0.7695\n",
      "Epoch 7/20\n",
      "24/24 [==============================] - 2s 100ms/step - loss: 0.3106 - accuracy: 0.8868 - val_loss: 0.5523 - val_accuracy: 0.7656\n",
      "Epoch 8/20\n",
      "24/24 [==============================] - 2s 104ms/step - loss: 0.2983 - accuracy: 0.8893 - val_loss: 0.5680 - val_accuracy: 0.7685\n",
      "Epoch 9/20\n",
      "24/24 [==============================] - 2s 80ms/step - loss: 0.2946 - accuracy: 0.8970 - val_loss: 0.5937 - val_accuracy: 0.7481\n",
      "Epoch 10/20\n",
      "24/24 [==============================] - 2s 99ms/step - loss: 0.2815 - accuracy: 0.8947 - val_loss: 0.5934 - val_accuracy: 0.7534\n",
      "Epoch 11/20\n",
      "24/24 [==============================] - 2s 78ms/step - loss: 0.2774 - accuracy: 0.8997 - val_loss: 0.6106 - val_accuracy: 0.7636\n",
      "Epoch 12/20\n",
      "24/24 [==============================] - 2s 83ms/step - loss: 0.2654 - accuracy: 0.9030 - val_loss: 0.6468 - val_accuracy: 0.7544\n",
      "Epoch 13/20\n",
      "24/24 [==============================] - 2s 80ms/step - loss: 0.2609 - accuracy: 0.9091 - val_loss: 0.6465 - val_accuracy: 0.7524\n",
      "Epoch 14/20\n",
      "24/24 [==============================] - 2s 83ms/step - loss: 0.2515 - accuracy: 0.9089 - val_loss: 0.6784 - val_accuracy: 0.7554\n",
      "Epoch 15/20\n",
      "24/24 [==============================] - 2s 87ms/step - loss: 0.2467 - accuracy: 0.9109 - val_loss: 0.6963 - val_accuracy: 0.7442\n",
      "Epoch 16/20\n",
      "24/24 [==============================] - 2s 84ms/step - loss: 0.2493 - accuracy: 0.9049 - val_loss: 0.6711 - val_accuracy: 0.7519\n",
      "Epoch 17/20\n",
      "24/24 [==============================] - 2s 79ms/step - loss: 0.2341 - accuracy: 0.9143 - val_loss: 0.7321 - val_accuracy: 0.7534\n",
      "Epoch 18/20\n",
      "24/24 [==============================] - 2s 78ms/step - loss: 0.2279 - accuracy: 0.9139 - val_loss: 0.7264 - val_accuracy: 0.7505\n",
      "Epoch 19/20\n",
      "24/24 [==============================] - 2s 85ms/step - loss: 0.2246 - accuracy: 0.9197 - val_loss: 0.7479 - val_accuracy: 0.7369\n",
      "Epoch 20/20\n",
      "24/24 [==============================] - 2s 100ms/step - loss: 0.2162 - accuracy: 0.9226 - val_loss: 0.7761 - val_accuracy: 0.7534\n"
     ]
    }
   ],
   "source": [
    "validation_split = 0.3\n",
    "batch_size = 200\n",
    "epochs = 20\n",
    "\n",
    "model.compile(optimizer='adam', loss='bce', metrics='accuracy')\n",
    "\n",
    "fitted = model.fit(train_rev_pad, train_sent, validation_split=validation_split,\n",
    "                   batch_size=batch_size, epochs=epochs, shuffle=True)\n",
    "\n"
   ]
  },
  {
   "cell_type": "markdown",
   "id": "67e844cb",
   "metadata": {},
   "source": [
    "**Results and Analysis**\n",
    "\n",
    "The highest dropout rate of 0.9 performed the worst. The other three dropout rates yielded similar results: accuracy on the order of 92% and validation accuracy on the order of 75%. I picked the model with the dropout rate of 0.8 as the one I would use to perform the predictions for the Kaggle competition because in the event that the extent of overfitting may not have been captured by the 20 epochs of training with validation, I thought that the higher dropout rate would give me the best result in with the competition data set.\n",
    "\n",
    "I created a confusion matrix to better visualize the performance of my model and see if it was biased in any way. Overall, I deemed the results to be relatively well balanced. While there were more true non-disasters than actual disaster, the number of incorrect predicitons in either case were very close - 103 vs. 97. This indicates to me that the model isn't defaulting to automatically picking the more common outcome.\n",
    "\n",
    "Finally, I used the model.predict() function to perfor my predictons on the Kaggle data set. After uploading to the Kaggle website, I found that scored an accuracy of 76.8%, putting me in 902nd place."
   ]
  },
  {
   "cell_type": "code",
   "execution_count": null,
   "id": "0ff1e468",
   "metadata": {},
   "outputs": [],
   "source": [
    "test_pred =  model.evaluate(test_rev_pad, test_sent)"
   ]
  },
  {
   "cell_type": "code",
   "execution_count": 242,
   "id": "025ade86",
   "metadata": {},
   "outputs": [
    {
     "name": "stdout",
     "output_type": "stream",
     "text": [
      "24/24 [==============================] - 1s 29ms/step\n"
     ]
    },
    {
     "data": {
      "text/plain": [
       "<sklearn.metrics._plot.confusion_matrix.ConfusionMatrixDisplay at 0x48935f0d0>"
      ]
     },
     "execution_count": 242,
     "metadata": {},
     "output_type": "execute_result"
    },
    {
     "data": {
      "image/png": "[encoded data removed]",
      "text/plain": [
       "<Figure size 432x288 with 2 Axes>"
      ]
     },
     "metadata": {
      "needs_background": "light"
     },
     "output_type": "display_data"
    }
   ],
   "source": [
    "predictions = np.round(model.predict(test_rev_pad))\n",
    "cf_matrix = confusion_matrix(test_sent, predictions)\n",
    "\n",
    "\n",
    "disp = ConfusionMatrixDisplay(confusion_matrix=cf_matrix)\n",
    "disp.plot()"
   ]
  },
  {
   "cell_type": "markdown",
   "id": "68dc3bc2",
   "metadata": {},
   "source": [
    "In this section, do all the same pre-processing steps to the validation data that will be used to perform predictions on the Kaggle competition data set."
   ]
  },
  {
   "cell_type": "code",
   "execution_count": 210,
   "id": "b3cd638a",
   "metadata": {},
   "outputs": [
    {
     "name": "stdout",
     "output_type": "stream",
     "text": [
      "0                      just happened a terrible car crash\n",
      "1       heard about earthquake is different cities sta...\n",
      "2       there is a forest fire at spot pond geese are ...\n",
      "3                   apocalypse lighting spokane wildfires\n",
      "4           typhoon soudelor kills 28 in china and taiwan\n",
      "                              ...                        \n",
      "3258    earthquake safety los angeles safety fasteners...\n",
      "3259    storm in ri worse than last hurricane my city ...\n",
      "3260                     green line derailment in chicago\n",
      "3261             meg issues hazardous weather outlook hwo\n",
      "3262    cityofcalgary has activated its municipal emer...\n",
      "Name: text, Length: 3263, dtype: object\n",
      "3263\n",
      "71786\n"
     ]
    }
   ],
   "source": [
    "val_df['text'] = val_df['text'].apply(lambda x: process(x))\n",
    "\n",
    "val_rev = val_df['text']\n",
    "print(val_rev)\n",
    "print(val_rev.size)\n",
    "\n",
    "val_rev_tokens = tokenizer.texts_to_sequences(val_rev)\n",
    "\n",
    "val_rev_pad = pad_sequences(val_rev_tokens, maxlen=upper_bound)\n",
    "print(val_rev_pad.size)"
   ]
  },
  {
   "cell_type": "code",
   "execution_count": 222,
   "id": "356bb1e9",
   "metadata": {},
   "outputs": [
    {
     "name": "stdout",
     "output_type": "stream",
     "text": [
      "102/102 [==============================] - 1s 8ms/step\n",
      "3263\n",
      "[[0.0900268 ]\n",
      " [0.943518  ]\n",
      " [0.99533635]\n",
      " ...\n",
      " [0.9827639 ]\n",
      " [0.8832012 ]\n",
      " [0.91683143]]\n"
     ]
    }
   ],
   "source": [
    "predictions = model.predict(val_rev_pad)\n",
    "print(len(predictions))\n",
    "print(predictions)"
   ]
  },
  {
   "cell_type": "code",
   "execution_count": 224,
   "id": "3fccb859",
   "metadata": {},
   "outputs": [
    {
     "name": "stdout",
     "output_type": "stream",
     "text": [
      "3263\n",
      "[[0.]\n",
      " [1.]\n",
      " [1.]\n",
      " ...\n",
      " [1.]\n",
      " [1.]\n",
      " [1.]]\n"
     ]
    }
   ],
   "source": [
    "#the predict_generator output is a list of lists, where the elements are the probabilities of each class. \n",
    "#This code turns it into a final predction value by rounding (0 or 1 since there are two classificaiton categories, \n",
    "#then writes it to a csv that I upload to Kaggle\n",
    "pc = np.round_(predictions,decimals=0)\n",
    "print(pc.size)\n",
    "print(pc)\n",
    "pc = pd.DataFrame(pc)\n",
    "pc.to_csv('submission.csv')"
   ]
  },
  {
   "cell_type": "markdown",
   "id": "abfc8afe",
   "metadata": {},
   "source": [
    " **Conclusion**\n",
    " \n",
    "In this project, I implemented LSTM to classify whether tweets are or are not indicative of a natural disaster. This kind of project could be useful for emergency response authorities and NGOs to determine where to allocate resources and what to respond to real-time.\n",
    "\n",
    "I experimented with modifying the dropout rate in hyperparameter tuning. I found that a dropout rate as high as 0.9 significantly impacted accuracy, but rates ranging from 0.6 to 0.8 yielded similar outcomes after 20 epochs of training.\n",
    "\n",
    "For the Kaggle competition, I was able to achieve a 76.8% accuarcy. This put me in the middle of the pack. If I were to continue this project and try to improve my score, I would experiment with models that contain multiple layers and different activation functions."
   ]
  },
  {
   "cell_type": "markdown",
   "id": "1beb4473",
   "metadata": {},
   "source": [
    "**References:**\n",
    "- https://www.kaggle.com/code/philculliton/nlp-getting-started-tutorial/notebook\n",
    "-- This is an example notebook for this project. I used an entirely different ML algorithm for the actual training, but used the example code for importing in the data\n",
    "- https://keras.io/examples/nlp/multi_label_classification/\n",
    "- https://github.com/keras-team/keras/blob/master/keras/datasets/imdb.py\n",
    "- https://stackoverflow.com/questions/49146529/how-keras-imdb-dataset-data-is-preprocessed#:~:text=The%20words%20in%20the%20imdb,it%20will%20download%20the%20dataset.&text=numpy%20arrays%20x_train%2C%20y_train%2C%20x_test,returned%20by%20the%20load_data%20function.\n",
    "- https://keras.io/examples/nlp/bidirectional_lstm_imdb/\n",
    "- https://www.kaggle.com/code/rafaeltiedra/step-by-step-imdb-sentiment-analysis\n",
    "-- This is an example notebook for a different project, but since it was also NLP, I followed many of the methods as well as made my own additions/changes\n",
    "- https://scikit-learn.org/stable/modules/generated/sklearn.metrics.ConfusionMatrixDisplay.html\n",
    "- https://datascience.stackexchange.com/questions/32194/how-to-predict-class-label-from-class-probability-given-by-predict-generator-for\n",
    "- https://keras.io/api/layers/regularization_layers/dropout/"
   ]
  },
  {
   "cell_type": "code",
   "execution_count": null,
   "id": "7aca8249",
   "metadata": {},
   "outputs": [],
   "source": []
  }
 ],
 "metadata": {
  "kernelspec": {
   "display_name": "Python 3",
   "language": "python",
   "name": "python3"
  },
  "language_info": {
   "codemirror_mode": {
    "name": "ipython",
    "version": 3
   },
   "file_extension": ".py",
   "mimetype": "text/x-python",
   "name": "python",
   "nbconvert_exporter": "python",
   "pygments_lexer": "ipython3",
   "version": "3.8.18"
  }
 },
 "nbformat": 4,
 "nbformat_minor": 5
}
